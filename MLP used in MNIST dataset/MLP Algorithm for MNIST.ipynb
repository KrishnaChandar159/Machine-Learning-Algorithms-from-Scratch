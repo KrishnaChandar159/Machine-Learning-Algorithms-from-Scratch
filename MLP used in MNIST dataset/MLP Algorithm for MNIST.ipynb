{
 "cells": [
  {
   "cell_type": "code",
   "execution_count": 1,
   "metadata": {},
   "outputs": [],
   "source": [
    "import pickle\n",
    "import numpy as np\n",
    "import matplotlib.pyplot as plt\n"
   ]
  },
  {
   "cell_type": "code",
   "execution_count": 2,
   "metadata": {},
   "outputs": [],
   "source": [
    "with open(\"mnist_data.pkl\",\"rb\") as f:\n",
    "    new_dict = pickle.load(f)\n",
    "    \n",
    "train_y, test_X, test_y, train_X  = np.asarray(new_dict['trainLabels']), np.asarray(new_dict['testImages']), np.asarray(new_dict['testLabels']), np.asarray(new_dict['trainImages'])"
   ]
  },
  {
   "cell_type": "code",
   "execution_count": 3,
   "metadata": {},
   "outputs": [
    {
     "data": {
      "text/plain": [
       "((800, 784), (200, 784), (800,), (200,))"
      ]
     },
     "execution_count": 3,
     "metadata": {},
     "output_type": "execute_result"
    }
   ],
   "source": [
    "train_X.shape, test_X.shape, train_y.shape, test_y.shape"
   ]
  },
  {
   "cell_type": "code",
   "execution_count": 4,
   "metadata": {},
   "outputs": [
    {
     "data": {
      "text/plain": [
       "<matplotlib.image.AxesImage at 0x2289c89e160>"
      ]
     },
     "execution_count": 4,
     "metadata": {},
     "output_type": "execute_result"
    },
    {
     "data": {
      "image/png": "[encoded data removed]",
      "text/plain": [
       "<Figure size 432x288 with 1 Axes>"
      ]
     },
     "metadata": {
      "needs_background": "light"
     },
     "output_type": "display_data"
    }
   ],
   "source": [
    "t = train_X[25].reshape(28,28)\n",
    "plt.imshow(t, cmap='gray')"
   ]
  },
  {
   "cell_type": "markdown",
   "metadata": {},
   "source": [
    "# Network architecture - \n",
    "\n",
    "Input layer - 784 neurons (28*28 pixels - 1 image)\n",
    "\n",
    "Hidden layer - Nh (100 neurons - initially)\n",
    "\n",
    "Output layer - 10 neurons (0-9)"
   ]
  },
  {
   "cell_type": "markdown",
   "metadata": {},
   "source": [
    "# So weight and bias matrices \n",
    "-> W1 = 784 x 100 ; b1 = 100 x 1\n",
    "\n",
    "-> W2 = 100 x 10 ; b2 = 10 x 1\n",
    "\n",
    "-> X = 800 x 784, Y = 800 x 1 "
   ]
  },
  {
   "cell_type": "code",
   "execution_count": 5,
   "metadata": {},
   "outputs": [
    {
     "data": {
      "text/plain": [
       "array([[0., 0., 0., ..., 0., 0., 0.],\n",
       "       [1., 0., 0., ..., 0., 0., 0.],\n",
       "       [0., 0., 0., ..., 0., 0., 0.],\n",
       "       ...,\n",
       "       [0., 0., 0., ..., 0., 0., 0.],\n",
       "       [0., 0., 0., ..., 1., 0., 0.],\n",
       "       [0., 0., 0., ..., 0., 0., 0.]])"
      ]
     },
     "execution_count": 5,
     "metadata": {},
     "output_type": "execute_result"
    }
   ],
   "source": [
    "z = np.max(train_y) + 1\n",
    "y_new = np.eye(z)[train_y] #hot encoding of y\n",
    "y_new "
   ]
  },
  {
   "cell_type": "code",
   "execution_count": 6,
   "metadata": {},
   "outputs": [],
   "source": [
    "def sigmoid(x):\n",
    "    return 1.0 / (1 + np.exp(-x))\n",
    "\n",
    "def sigmoid_derv(x):\n",
    "    return sigmoid(x) * (1 - sigmoid(x))\n",
    "\n",
    "def softMax(s):\n",
    "    exps = np.exp(s - np.max(s, axis=1, keepdims=True))\n",
    "    return exps/np.sum(exps, axis=1, keepdims=True)\n",
    "\n",
    "def error(y_hat,y):\n",
    "    n_samples = y.shape[0]\n",
    "    logp = -np.log(y_hat[np.arange(n_samples), np.argmax(y, axis=1)])\n",
    "    loss = np.sum(logp)/n_samples\n",
    "    return loss\n",
    "def mse(y,y_hat):\n",
    "    return np.sum((np.power((y - y_hat),2)))\n",
    "\n",
    "def get_accuracy(y_hat, y):\n",
    "    accuracy = 0\n",
    "    y_max = np.argmax(y,axis=1)\n",
    "    y_hat_max = np.argmax(y_hat, axis=1)\n",
    "    n = y.shape[0]\n",
    "    \n",
    "    for i in range(n):\n",
    "        accuracy += (y_max[i] == y_hat_max[i])\n",
    "    return accuracy/n # accuracy in percentage\n"
   ]
  },
  {
   "cell_type": "code",
   "execution_count": 7,
   "metadata": {
    "scrolled": false
   },
   "outputs": [
    {
     "name": "stdout",
     "output_type": "stream",
     "text": [
      "Epoch -  0 ; Loss -  1296.520884657294 : Accuracy (%)-  0.1025\n",
      "Epoch -  100 ; Loss -  10.201062333872548 : Accuracy (%)-  0.99375\n",
      "Epoch -  200 ; Loss -  5.027655727206017 : Accuracy (%)-  0.9975\n",
      "Epoch -  300 ; Loss -  2.0887173851616874 : Accuracy (%)-  0.99875\n",
      "Epoch -  400 ; Loss -  3.075062301191193 : Accuracy (%)-  0.9975\n",
      "Epoch -  500 ; Loss -  1.9100836003260888 : Accuracy (%)-  1.0\n",
      "Epoch -  600 ; Loss -  1.3338690964773745 : Accuracy (%)-  1.0\n",
      "Epoch -  700 ; Loss -  1.3829551290443327 : Accuracy (%)-  1.0\n",
      "Epoch -  800 ; Loss -  1.95209824791383 : Accuracy (%)-  0.99875\n",
      "Epoch -  900 ; Loss -  3.21886986914898 : Accuracy (%)-  0.9975\n",
      "Epoch -  1000 ; Loss -  1.2819821662338513 : Accuracy (%)-  1.0\n",
      "Epoch -  1100 ; Loss -  0.4153259995437001 : Accuracy (%)-  1.0\n",
      "Epoch -  1200 ; Loss -  4.199048137796743 : Accuracy (%)-  0.9975\n",
      "Epoch -  1300 ; Loss -  1.667909680734908 : Accuracy (%)-  1.0\n",
      "Epoch -  1400 ; Loss -  0.5617807174154023 : Accuracy (%)-  1.0\n",
      "Epoch -  1500 ; Loss -  0.5445889249820737 : Accuracy (%)-  1.0\n",
      "Epoch -  1600 ; Loss -  0.8291825820307052 : Accuracy (%)-  1.0\n",
      "Epoch -  1700 ; Loss -  0.3855285647989175 : Accuracy (%)-  1.0\n",
      "Epoch -  1800 ; Loss -  0.5273136627133306 : Accuracy (%)-  1.0\n",
      "Epoch -  1900 ; Loss -  2.5630188843106416 : Accuracy (%)-  0.99875\n",
      "Epoch -  2000 ; Loss -  0.8244422038822014 : Accuracy (%)-  1.0\n",
      "Epoch -  2100 ; Loss -  0.6396760785386219 : Accuracy (%)-  1.0\n",
      "Epoch -  2200 ; Loss -  0.6001489635403073 : Accuracy (%)-  1.0\n",
      "Epoch -  2300 ; Loss -  2.6348177393724175 : Accuracy (%)-  0.9975\n",
      "Epoch -  2400 ; Loss -  1.3598336565610374 : Accuracy (%)-  1.0\n",
      "Epoch -  2500 ; Loss -  4.454459833667027 : Accuracy (%)-  0.9975\n",
      "Epoch -  2600 ; Loss -  2.1220691976454944 : Accuracy (%)-  0.99875\n",
      "Epoch -  2700 ; Loss -  0.6373560636773737 : Accuracy (%)-  1.0\n",
      "Epoch -  2800 ; Loss -  0.44005714895551223 : Accuracy (%)-  1.0\n",
      "Epoch -  2900 ; Loss -  1.1787808374230846 : Accuracy (%)-  0.99875\n"
     ]
    }
   ],
   "source": [
    "X = train_X\n",
    "y = y_new\n",
    "l = [] ; e = [] ; a = [];\n",
    "alpha = 0.5\n",
    "\n",
    "# Initializing weights\n",
    "W1 = np.random.randn(784,100)\n",
    "W2 = np.random.randn(100,10)\n",
    "b1 = np.zeros(100)\n",
    "b2 = np.zeros(10)\n",
    "no_epoch = 3000\n",
    "\n",
    "for epoch in range(3000):\n",
    "     \n",
    "    # Forward\n",
    "    A1 = sigmoid(np.dot(X,W1)+b1)\n",
    "    A2 = softMax(np.dot(A1,W2)+b2) \n",
    "    \n",
    "    # error\n",
    "    loss_value = mse(A2,y)\n",
    "    accuracy = get_accuracy(A2,y)\n",
    "    \n",
    "    # derivatives\n",
    "    del_A2 = (A2 - y)/y.shape[0]  #  cross_entropy of A2 and y\n",
    "    \n",
    "    del_Z1 = np.dot(del_A2,W2.T)\n",
    "    del_A1 = del_Z1*sigmoid_derv(A1)\n",
    "    \n",
    "    dW2 = np.dot(A1.T,del_A2)\n",
    "    db2 = np.sum(del_A2, axis=0, keepdims=True)\n",
    "    dW1 = np.dot(X.T, del_A1)\n",
    "    db1 = np.sum(del_A1, axis=0)\n",
    "    \n",
    "    # graadient descent\n",
    "    W2 = W2 - alpha*dW2\n",
    "    b2 = b2 - alpha*db2\n",
    "    W1 = W1 - alpha*dW1\n",
    "    b1 = b1 - alpha*db1\n",
    "    \n",
    "    if epoch%100 == 0:\n",
    "        print(\"Epoch - \", epoch, \"; Loss - \", loss_value, \": Accuracy (%)- \", accuracy)\n",
    "        l.append(loss_value) ; a.append(accuracy); e.append(epoch)\n",
    "        "
   ]
  },
  {
   "cell_type": "code",
   "execution_count": 8,
   "metadata": {},
   "outputs": [
    {
     "data": {
      "image/png": "[encoded data removed]",
      "text/plain": [
       "<Figure size 432x288 with 1 Axes>"
      ]
     },
     "metadata": {
      "needs_background": "light"
     },
     "output_type": "display_data"
    }
   ],
   "source": [
    "plt.title('Epoch Vs loss')\n",
    "plt.xlabel('Epoch')\n",
    "plt.ylabel('Loss')\n",
    "plt.plot(e,l)\n",
    "plt.show()"
   ]
  },
  {
   "cell_type": "code",
   "execution_count": 9,
   "metadata": {},
   "outputs": [
    {
     "data": {
      "image/png": "[encoded data removed]",
      "text/plain": [
       "<Figure size 432x288 with 1 Axes>"
      ]
     },
     "metadata": {
      "needs_background": "light"
     },
     "output_type": "display_data"
    }
   ],
   "source": [
    "plt.title('Epoch Vs Accuracy')\n",
    "plt.xlabel('Epoch')\n",
    "plt.ylabel('Accuracy')\n",
    "plt.plot(e,a)\n",
    "plt.show()"
   ]
  },
  {
   "cell_type": "markdown",
   "metadata": {},
   "source": [
    "# Predicting test data"
   ]
  },
  {
   "cell_type": "code",
   "execution_count": 10,
   "metadata": {},
   "outputs": [
    {
     "name": "stdout",
     "output_type": "stream",
     "text": [
      "Test data loss-  1.4364780666944268 ; Accuracy -  0.82\n"
     ]
    }
   ],
   "source": [
    "X = test_X; y = np.eye(np.max(test_y) + 1)[test_y] #hot encoding of y\n",
    "\n",
    "A1 = sigmoid(np.dot(X,W1)+b1) \n",
    "A2 = softMax(np.dot(A1,W2)+b2) \n",
    "loss_value = error(A2,y)\n",
    "accuracy = get_accuracy(A2,y)\n",
    "print('Test data loss- ', loss_value, '; Accuracy - ', accuracy)"
   ]
  }
 ],
 "metadata": {
  "kernelspec": {
   "display_name": "Python 3",
   "language": "python",
   "name": "python3"
  },
  "language_info": {
   "codemirror_mode": {
    "name": "ipython",
    "version": 3
   },
   "file_extension": ".py",
   "mimetype": "text/x-python",
   "name": "python",
   "nbconvert_exporter": "python",
   "pygments_lexer": "ipython3",
   "version": "3.7.3"
  }
 },
 "nbformat": 4,
 "nbformat_minor": 4
}
